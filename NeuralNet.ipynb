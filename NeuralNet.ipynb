{
 "cells": [
  {
   "cell_type": "markdown",
   "source": [
    "<h1>Neural network classifier implemenetation</h1>\n",
    "<h4>Creator: Aviv Lugasi</h4>\n",
    "\n",
    "<br>\n",
    "<h2>About the notebook</h2>\n",
    "<p>\n",
    "In this notebook we will implement a neural network classifier from scracth.<br>\n",
    "Using only numpy, except for the softmax function of the last layer which for it<br>\n",
    "Scipy built function was used for preventing overflow and underflow.<br>\n",
    "Although the function was implemented in this notebook.<br>\n",
    "After the implemention we will train the network to classify hand written digits<br>\n",
    "and finally we will compare its performence to the built in Sklearn MLP model.<br>\n",
    "</p>"
   ],
   "metadata": {
    "collapsed": false
   }
  },
  {
   "cell_type": "markdown",
   "source": [
    "<h2>About the data</h2>\n",
    "<p>\n",
    "The dataset is the MNIST large database of handwritten digits that is commonly used for training<br> various image processing systems.<br>\n",
    "The dataset contains 42000 28X28 pixels grayscale labeled images of hand written digits.<br>\n",
    "The dataset can be found on <a href=\"https://www.kaggle.com/competitions/digit-recognizer/data\">Kaggle</a>\n",
    "</p>"
   ],
   "metadata": {
    "collapsed": false
   }
  },
  {
   "cell_type": "markdown",
   "source": [
    "<h2>Libraries</h2>"
   ],
   "metadata": {
    "collapsed": false
   }
  },
  {
   "cell_type": "code",
   "execution_count": 1,
   "metadata": {
    "collapsed": true
   },
   "outputs": [],
   "source": [
    "# 1 -disable warnings\n",
    "import warnings\n",
    "\n",
    "warnings.filterwarnings('ignore')\n",
    "\n",
    "# for working in with linear algebra, fourier transform,\n",
    "# and matrices and other scientific computing.\n",
    "import numpy as np\n",
    "\n",
    "# data analysis and manipulation\n",
    "import pandas as pd\n",
    "\n",
    "#data pre- processing\n",
    "from sklearn.preprocessing import StandardScaler\n",
    "\n",
    "# data visualization\n",
    "from matplotlib import pyplot as plt\n",
    "\n",
    "# 8 - for log's calculations\n",
    "import math\n",
    "from math import e\n",
    "\n",
    "#soft max function\n",
    "from scipy.special import softmax\n",
    "\n",
    "#NN sklearn model and gridSearchCV for comparing with my model results\n",
    "from sklearn.model_selection import train_test_split, GridSearchCV\n",
    "from sklearn.neural_network import MLPClassifier\n",
    "\n",
    "#model evaluation\n",
    "from sklearn.metrics import accuracy_score\n",
    "\n",
    "#train run time check\n",
    "import time\n",
    "\n",
    "# seed\n",
    "RSEED = 10\n",
    "\n",
    "#print float number with 6 digit after the decimal point\n",
    "pd.set_option('display.float_format', lambda x: '%.6f' % x)"
   ]
  },
  {
   "cell_type": "markdown",
   "source": [
    "<h2>Pre processing</h2>"
   ],
   "metadata": {
    "collapsed": false
   }
  },
  {
   "cell_type": "code",
   "execution_count": 2,
   "outputs": [
    {
     "data": {
      "text/plain": "       label  pixel0  pixel1  pixel2  pixel3  pixel4  pixel5  pixel6  pixel7  \\\n0          1       0       0       0       0       0       0       0       0   \n1          0       0       0       0       0       0       0       0       0   \n2          1       0       0       0       0       0       0       0       0   \n3          4       0       0       0       0       0       0       0       0   \n4          0       0       0       0       0       0       0       0       0   \n...      ...     ...     ...     ...     ...     ...     ...     ...     ...   \n41995      0       0       0       0       0       0       0       0       0   \n41996      1       0       0       0       0       0       0       0       0   \n41997      7       0       0       0       0       0       0       0       0   \n41998      6       0       0       0       0       0       0       0       0   \n41999      9       0       0       0       0       0       0       0       0   \n\n       pixel8  ...  pixel774  pixel775  pixel776  pixel777  pixel778  \\\n0           0  ...         0         0         0         0         0   \n1           0  ...         0         0         0         0         0   \n2           0  ...         0         0         0         0         0   \n3           0  ...         0         0         0         0         0   \n4           0  ...         0         0         0         0         0   \n...       ...  ...       ...       ...       ...       ...       ...   \n41995       0  ...         0         0         0         0         0   \n41996       0  ...         0         0         0         0         0   \n41997       0  ...         0         0         0         0         0   \n41998       0  ...         0         0         0         0         0   \n41999       0  ...         0         0         0         0         0   \n\n       pixel779  pixel780  pixel781  pixel782  pixel783  \n0             0         0         0         0         0  \n1             0         0         0         0         0  \n2             0         0         0         0         0  \n3             0         0         0         0         0  \n4             0         0         0         0         0  \n...         ...       ...       ...       ...       ...  \n41995         0         0         0         0         0  \n41996         0         0         0         0         0  \n41997         0         0         0         0         0  \n41998         0         0         0         0         0  \n41999         0         0         0         0         0  \n\n[42000 rows x 785 columns]",
      "text/html": "<div>\n<style scoped>\n    .dataframe tbody tr th:only-of-type {\n        vertical-align: middle;\n    }\n\n    .dataframe tbody tr th {\n        vertical-align: top;\n    }\n\n    .dataframe thead th {\n        text-align: right;\n    }\n</style>\n<table border=\"1\" class=\"dataframe\">\n  <thead>\n    <tr style=\"text-align: right;\">\n      <th></th>\n      <th>label</th>\n      <th>pixel0</th>\n      <th>pixel1</th>\n      <th>pixel2</th>\n      <th>pixel3</th>\n      <th>pixel4</th>\n      <th>pixel5</th>\n      <th>pixel6</th>\n      <th>pixel7</th>\n      <th>pixel8</th>\n      <th>...</th>\n      <th>pixel774</th>\n      <th>pixel775</th>\n      <th>pixel776</th>\n      <th>pixel777</th>\n      <th>pixel778</th>\n      <th>pixel779</th>\n      <th>pixel780</th>\n      <th>pixel781</th>\n      <th>pixel782</th>\n      <th>pixel783</th>\n    </tr>\n  </thead>\n  <tbody>\n    <tr>\n      <th>0</th>\n      <td>1</td>\n      <td>0</td>\n      <td>0</td>\n      <td>0</td>\n      <td>0</td>\n      <td>0</td>\n      <td>0</td>\n      <td>0</td>\n      <td>0</td>\n      <td>0</td>\n      <td>...</td>\n      <td>0</td>\n      <td>0</td>\n      <td>0</td>\n      <td>0</td>\n      <td>0</td>\n      <td>0</td>\n      <td>0</td>\n      <td>0</td>\n      <td>0</td>\n      <td>0</td>\n    </tr>\n    <tr>\n      <th>1</th>\n      <td>0</td>\n      <td>0</td>\n      <td>0</td>\n      <td>0</td>\n      <td>0</td>\n      <td>0</td>\n      <td>0</td>\n      <td>0</td>\n      <td>0</td>\n      <td>0</td>\n      <td>...</td>\n      <td>0</td>\n      <td>0</td>\n      <td>0</td>\n      <td>0</td>\n      <td>0</td>\n      <td>0</td>\n      <td>0</td>\n      <td>0</td>\n      <td>0</td>\n      <td>0</td>\n    </tr>\n    <tr>\n      <th>2</th>\n      <td>1</td>\n      <td>0</td>\n      <td>0</td>\n      <td>0</td>\n      <td>0</td>\n      <td>0</td>\n      <td>0</td>\n      <td>0</td>\n      <td>0</td>\n      <td>0</td>\n      <td>...</td>\n      <td>0</td>\n      <td>0</td>\n      <td>0</td>\n      <td>0</td>\n      <td>0</td>\n      <td>0</td>\n      <td>0</td>\n      <td>0</td>\n      <td>0</td>\n      <td>0</td>\n    </tr>\n    <tr>\n      <th>3</th>\n      <td>4</td>\n      <td>0</td>\n      <td>0</td>\n      <td>0</td>\n      <td>0</td>\n      <td>0</td>\n      <td>0</td>\n      <td>0</td>\n      <td>0</td>\n      <td>0</td>\n      <td>...</td>\n      <td>0</td>\n      <td>0</td>\n      <td>0</td>\n      <td>0</td>\n      <td>0</td>\n      <td>0</td>\n      <td>0</td>\n      <td>0</td>\n      <td>0</td>\n      <td>0</td>\n    </tr>\n    <tr>\n      <th>4</th>\n      <td>0</td>\n      <td>0</td>\n      <td>0</td>\n      <td>0</td>\n      <td>0</td>\n      <td>0</td>\n      <td>0</td>\n      <td>0</td>\n      <td>0</td>\n      <td>0</td>\n      <td>...</td>\n      <td>0</td>\n      <td>0</td>\n      <td>0</td>\n      <td>0</td>\n      <td>0</td>\n      <td>0</td>\n      <td>0</td>\n      <td>0</td>\n      <td>0</td>\n      <td>0</td>\n    </tr>\n    <tr>\n      <th>...</th>\n      <td>...</td>\n      <td>...</td>\n      <td>...</td>\n      <td>...</td>\n      <td>...</td>\n      <td>...</td>\n      <td>...</td>\n      <td>...</td>\n      <td>...</td>\n      <td>...</td>\n      <td>...</td>\n      <td>...</td>\n      <td>...</td>\n      <td>...</td>\n      <td>...</td>\n      <td>...</td>\n      <td>...</td>\n      <td>...</td>\n      <td>...</td>\n      <td>...</td>\n      <td>...</td>\n    </tr>\n    <tr>\n      <th>41995</th>\n      <td>0</td>\n      <td>0</td>\n      <td>0</td>\n      <td>0</td>\n      <td>0</td>\n      <td>0</td>\n      <td>0</td>\n      <td>0</td>\n      <td>0</td>\n      <td>0</td>\n      <td>...</td>\n      <td>0</td>\n      <td>0</td>\n      <td>0</td>\n      <td>0</td>\n      <td>0</td>\n      <td>0</td>\n      <td>0</td>\n      <td>0</td>\n      <td>0</td>\n      <td>0</td>\n    </tr>\n    <tr>\n      <th>41996</th>\n      <td>1</td>\n      <td>0</td>\n      <td>0</td>\n      <td>0</td>\n      <td>0</td>\n      <td>0</td>\n      <td>0</td>\n      <td>0</td>\n      <td>0</td>\n      <td>0</td>\n      <td>...</td>\n      <td>0</td>\n      <td>0</td>\n      <td>0</td>\n      <td>0</td>\n      <td>0</td>\n      <td>0</td>\n      <td>0</td>\n      <td>0</td>\n      <td>0</td>\n      <td>0</td>\n    </tr>\n    <tr>\n      <th>41997</th>\n      <td>7</td>\n      <td>0</td>\n      <td>0</td>\n      <td>0</td>\n      <td>0</td>\n      <td>0</td>\n      <td>0</td>\n      <td>0</td>\n      <td>0</td>\n      <td>0</td>\n      <td>...</td>\n      <td>0</td>\n      <td>0</td>\n      <td>0</td>\n      <td>0</td>\n      <td>0</td>\n      <td>0</td>\n      <td>0</td>\n      <td>0</td>\n      <td>0</td>\n      <td>0</td>\n    </tr>\n    <tr>\n      <th>41998</th>\n      <td>6</td>\n      <td>0</td>\n      <td>0</td>\n      <td>0</td>\n      <td>0</td>\n      <td>0</td>\n      <td>0</td>\n      <td>0</td>\n      <td>0</td>\n      <td>0</td>\n      <td>...</td>\n      <td>0</td>\n      <td>0</td>\n      <td>0</td>\n      <td>0</td>\n      <td>0</td>\n      <td>0</td>\n      <td>0</td>\n      <td>0</td>\n      <td>0</td>\n      <td>0</td>\n    </tr>\n    <tr>\n      <th>41999</th>\n      <td>9</td>\n      <td>0</td>\n      <td>0</td>\n      <td>0</td>\n      <td>0</td>\n      <td>0</td>\n      <td>0</td>\n      <td>0</td>\n      <td>0</td>\n      <td>0</td>\n      <td>...</td>\n      <td>0</td>\n      <td>0</td>\n      <td>0</td>\n      <td>0</td>\n      <td>0</td>\n      <td>0</td>\n      <td>0</td>\n      <td>0</td>\n      <td>0</td>\n      <td>0</td>\n    </tr>\n  </tbody>\n</table>\n<p>42000 rows × 785 columns</p>\n</div>"
     },
     "execution_count": 2,
     "metadata": {},
     "output_type": "execute_result"
    }
   ],
   "source": [
    "#read dataset\n",
    "data = pd.read_csv(\"data.csv\")\n",
    "data"
   ],
   "metadata": {
    "collapsed": false,
    "pycharm": {
     "name": "#%%\n"
    }
   }
  },
  {
   "cell_type": "code",
   "execution_count": 3,
   "outputs": [],
   "source": [
    "# performing standardization\n",
    "sc = StandardScaler()\n",
    "label = data[['label']]\n",
    "data.drop(['label'], axis=1, inplace=True)\n",
    "X_scaled = sc.fit_transform(data)\n",
    "X_scaled = pd.DataFrame(X_scaled)\n",
    "data = pd.concat([label,X_scaled],axis=1)"
   ],
   "metadata": {
    "collapsed": false,
    "pycharm": {
     "name": "#%%\n"
    }
   }
  },
  {
   "cell_type": "code",
   "execution_count": 4,
   "outputs": [
    {
     "data": {
      "text/plain": "       label        0        1        2        3        4        5        6  \\\n0          1 0.000000 0.000000 0.000000 0.000000 0.000000 0.000000 0.000000   \n1          0 0.000000 0.000000 0.000000 0.000000 0.000000 0.000000 0.000000   \n2          1 0.000000 0.000000 0.000000 0.000000 0.000000 0.000000 0.000000   \n3          4 0.000000 0.000000 0.000000 0.000000 0.000000 0.000000 0.000000   \n4          0 0.000000 0.000000 0.000000 0.000000 0.000000 0.000000 0.000000   \n...      ...      ...      ...      ...      ...      ...      ...      ...   \n41995      0 0.000000 0.000000 0.000000 0.000000 0.000000 0.000000 0.000000   \n41996      1 0.000000 0.000000 0.000000 0.000000 0.000000 0.000000 0.000000   \n41997      7 0.000000 0.000000 0.000000 0.000000 0.000000 0.000000 0.000000   \n41998      6 0.000000 0.000000 0.000000 0.000000 0.000000 0.000000 0.000000   \n41999      9 0.000000 0.000000 0.000000 0.000000 0.000000 0.000000 0.000000   \n\n             7        8  ...       774       775       776       777  \\\n0     0.000000 0.000000  ... -0.034737 -0.025270 -0.018026 -0.011473   \n1     0.000000 0.000000  ... -0.034737 -0.025270 -0.018026 -0.011473   \n2     0.000000 0.000000  ... -0.034737 -0.025270 -0.018026 -0.011473   \n3     0.000000 0.000000  ... -0.034737 -0.025270 -0.018026 -0.011473   \n4     0.000000 0.000000  ... -0.034737 -0.025270 -0.018026 -0.011473   \n...        ...      ...  ...       ...       ...       ...       ...   \n41995 0.000000 0.000000  ... -0.034737 -0.025270 -0.018026 -0.011473   \n41996 0.000000 0.000000  ... -0.034737 -0.025270 -0.018026 -0.011473   \n41997 0.000000 0.000000  ... -0.034737 -0.025270 -0.018026 -0.011473   \n41998 0.000000 0.000000  ... -0.034737 -0.025270 -0.018026 -0.011473   \n41999 0.000000 0.000000  ... -0.034737 -0.025270 -0.018026 -0.011473   \n\n            778       779      780      781      782      783  \n0     -0.009099 -0.006897 0.000000 0.000000 0.000000 0.000000  \n1     -0.009099 -0.006897 0.000000 0.000000 0.000000 0.000000  \n2     -0.009099 -0.006897 0.000000 0.000000 0.000000 0.000000  \n3     -0.009099 -0.006897 0.000000 0.000000 0.000000 0.000000  \n4     -0.009099 -0.006897 0.000000 0.000000 0.000000 0.000000  \n...         ...       ...      ...      ...      ...      ...  \n41995 -0.009099 -0.006897 0.000000 0.000000 0.000000 0.000000  \n41996 -0.009099 -0.006897 0.000000 0.000000 0.000000 0.000000  \n41997 -0.009099 -0.006897 0.000000 0.000000 0.000000 0.000000  \n41998 -0.009099 -0.006897 0.000000 0.000000 0.000000 0.000000  \n41999 -0.009099 -0.006897 0.000000 0.000000 0.000000 0.000000  \n\n[42000 rows x 785 columns]",
      "text/html": "<div>\n<style scoped>\n    .dataframe tbody tr th:only-of-type {\n        vertical-align: middle;\n    }\n\n    .dataframe tbody tr th {\n        vertical-align: top;\n    }\n\n    .dataframe thead th {\n        text-align: right;\n    }\n</style>\n<table border=\"1\" class=\"dataframe\">\n  <thead>\n    <tr style=\"text-align: right;\">\n      <th></th>\n      <th>label</th>\n      <th>0</th>\n      <th>1</th>\n      <th>2</th>\n      <th>3</th>\n      <th>4</th>\n      <th>5</th>\n      <th>6</th>\n      <th>7</th>\n      <th>8</th>\n      <th>...</th>\n      <th>774</th>\n      <th>775</th>\n      <th>776</th>\n      <th>777</th>\n      <th>778</th>\n      <th>779</th>\n      <th>780</th>\n      <th>781</th>\n      <th>782</th>\n      <th>783</th>\n    </tr>\n  </thead>\n  <tbody>\n    <tr>\n      <th>0</th>\n      <td>1</td>\n      <td>0.000000</td>\n      <td>0.000000</td>\n      <td>0.000000</td>\n      <td>0.000000</td>\n      <td>0.000000</td>\n      <td>0.000000</td>\n      <td>0.000000</td>\n      <td>0.000000</td>\n      <td>0.000000</td>\n      <td>...</td>\n      <td>-0.034737</td>\n      <td>-0.025270</td>\n      <td>-0.018026</td>\n      <td>-0.011473</td>\n      <td>-0.009099</td>\n      <td>-0.006897</td>\n      <td>0.000000</td>\n      <td>0.000000</td>\n      <td>0.000000</td>\n      <td>0.000000</td>\n    </tr>\n    <tr>\n      <th>1</th>\n      <td>0</td>\n      <td>0.000000</td>\n      <td>0.000000</td>\n      <td>0.000000</td>\n      <td>0.000000</td>\n      <td>0.000000</td>\n      <td>0.000000</td>\n      <td>0.000000</td>\n      <td>0.000000</td>\n      <td>0.000000</td>\n      <td>...</td>\n      <td>-0.034737</td>\n      <td>-0.025270</td>\n      <td>-0.018026</td>\n      <td>-0.011473</td>\n      <td>-0.009099</td>\n      <td>-0.006897</td>\n      <td>0.000000</td>\n      <td>0.000000</td>\n      <td>0.000000</td>\n      <td>0.000000</td>\n    </tr>\n    <tr>\n      <th>2</th>\n      <td>1</td>\n      <td>0.000000</td>\n      <td>0.000000</td>\n      <td>0.000000</td>\n      <td>0.000000</td>\n      <td>0.000000</td>\n      <td>0.000000</td>\n      <td>0.000000</td>\n      <td>0.000000</td>\n      <td>0.000000</td>\n      <td>...</td>\n      <td>-0.034737</td>\n      <td>-0.025270</td>\n      <td>-0.018026</td>\n      <td>-0.011473</td>\n      <td>-0.009099</td>\n      <td>-0.006897</td>\n      <td>0.000000</td>\n      <td>0.000000</td>\n      <td>0.000000</td>\n      <td>0.000000</td>\n    </tr>\n    <tr>\n      <th>3</th>\n      <td>4</td>\n      <td>0.000000</td>\n      <td>0.000000</td>\n      <td>0.000000</td>\n      <td>0.000000</td>\n      <td>0.000000</td>\n      <td>0.000000</td>\n      <td>0.000000</td>\n      <td>0.000000</td>\n      <td>0.000000</td>\n      <td>...</td>\n      <td>-0.034737</td>\n      <td>-0.025270</td>\n      <td>-0.018026</td>\n      <td>-0.011473</td>\n      <td>-0.009099</td>\n      <td>-0.006897</td>\n      <td>0.000000</td>\n      <td>0.000000</td>\n      <td>0.000000</td>\n      <td>0.000000</td>\n    </tr>\n    <tr>\n      <th>4</th>\n      <td>0</td>\n      <td>0.000000</td>\n      <td>0.000000</td>\n      <td>0.000000</td>\n      <td>0.000000</td>\n      <td>0.000000</td>\n      <td>0.000000</td>\n      <td>0.000000</td>\n      <td>0.000000</td>\n      <td>0.000000</td>\n      <td>...</td>\n      <td>-0.034737</td>\n      <td>-0.025270</td>\n      <td>-0.018026</td>\n      <td>-0.011473</td>\n      <td>-0.009099</td>\n      <td>-0.006897</td>\n      <td>0.000000</td>\n      <td>0.000000</td>\n      <td>0.000000</td>\n      <td>0.000000</td>\n    </tr>\n    <tr>\n      <th>...</th>\n      <td>...</td>\n      <td>...</td>\n      <td>...</td>\n      <td>...</td>\n      <td>...</td>\n      <td>...</td>\n      <td>...</td>\n      <td>...</td>\n      <td>...</td>\n      <td>...</td>\n      <td>...</td>\n      <td>...</td>\n      <td>...</td>\n      <td>...</td>\n      <td>...</td>\n      <td>...</td>\n      <td>...</td>\n      <td>...</td>\n      <td>...</td>\n      <td>...</td>\n      <td>...</td>\n    </tr>\n    <tr>\n      <th>41995</th>\n      <td>0</td>\n      <td>0.000000</td>\n      <td>0.000000</td>\n      <td>0.000000</td>\n      <td>0.000000</td>\n      <td>0.000000</td>\n      <td>0.000000</td>\n      <td>0.000000</td>\n      <td>0.000000</td>\n      <td>0.000000</td>\n      <td>...</td>\n      <td>-0.034737</td>\n      <td>-0.025270</td>\n      <td>-0.018026</td>\n      <td>-0.011473</td>\n      <td>-0.009099</td>\n      <td>-0.006897</td>\n      <td>0.000000</td>\n      <td>0.000000</td>\n      <td>0.000000</td>\n      <td>0.000000</td>\n    </tr>\n    <tr>\n      <th>41996</th>\n      <td>1</td>\n      <td>0.000000</td>\n      <td>0.000000</td>\n      <td>0.000000</td>\n      <td>0.000000</td>\n      <td>0.000000</td>\n      <td>0.000000</td>\n      <td>0.000000</td>\n      <td>0.000000</td>\n      <td>0.000000</td>\n      <td>...</td>\n      <td>-0.034737</td>\n      <td>-0.025270</td>\n      <td>-0.018026</td>\n      <td>-0.011473</td>\n      <td>-0.009099</td>\n      <td>-0.006897</td>\n      <td>0.000000</td>\n      <td>0.000000</td>\n      <td>0.000000</td>\n      <td>0.000000</td>\n    </tr>\n    <tr>\n      <th>41997</th>\n      <td>7</td>\n      <td>0.000000</td>\n      <td>0.000000</td>\n      <td>0.000000</td>\n      <td>0.000000</td>\n      <td>0.000000</td>\n      <td>0.000000</td>\n      <td>0.000000</td>\n      <td>0.000000</td>\n      <td>0.000000</td>\n      <td>...</td>\n      <td>-0.034737</td>\n      <td>-0.025270</td>\n      <td>-0.018026</td>\n      <td>-0.011473</td>\n      <td>-0.009099</td>\n      <td>-0.006897</td>\n      <td>0.000000</td>\n      <td>0.000000</td>\n      <td>0.000000</td>\n      <td>0.000000</td>\n    </tr>\n    <tr>\n      <th>41998</th>\n      <td>6</td>\n      <td>0.000000</td>\n      <td>0.000000</td>\n      <td>0.000000</td>\n      <td>0.000000</td>\n      <td>0.000000</td>\n      <td>0.000000</td>\n      <td>0.000000</td>\n      <td>0.000000</td>\n      <td>0.000000</td>\n      <td>...</td>\n      <td>-0.034737</td>\n      <td>-0.025270</td>\n      <td>-0.018026</td>\n      <td>-0.011473</td>\n      <td>-0.009099</td>\n      <td>-0.006897</td>\n      <td>0.000000</td>\n      <td>0.000000</td>\n      <td>0.000000</td>\n      <td>0.000000</td>\n    </tr>\n    <tr>\n      <th>41999</th>\n      <td>9</td>\n      <td>0.000000</td>\n      <td>0.000000</td>\n      <td>0.000000</td>\n      <td>0.000000</td>\n      <td>0.000000</td>\n      <td>0.000000</td>\n      <td>0.000000</td>\n      <td>0.000000</td>\n      <td>0.000000</td>\n      <td>...</td>\n      <td>-0.034737</td>\n      <td>-0.025270</td>\n      <td>-0.018026</td>\n      <td>-0.011473</td>\n      <td>-0.009099</td>\n      <td>-0.006897</td>\n      <td>0.000000</td>\n      <td>0.000000</td>\n      <td>0.000000</td>\n      <td>0.000000</td>\n    </tr>\n  </tbody>\n</table>\n<p>42000 rows × 785 columns</p>\n</div>"
     },
     "execution_count": 4,
     "metadata": {},
     "output_type": "execute_result"
    }
   ],
   "source": [
    "data"
   ],
   "metadata": {
    "collapsed": false,
    "pycharm": {
     "name": "#%%\n"
    }
   }
  },
  {
   "cell_type": "code",
   "execution_count": 5,
   "outputs": [],
   "source": [
    "#transform to np array\n",
    "data = np.array(data)\n",
    "\n",
    "# shape\n",
    "rows, cols = data.shape\n",
    "\n",
    "#shuffeling the dataset before splitting to train and test\n",
    "np.random.shuffle(data)"
   ],
   "metadata": {
    "collapsed": false,
    "pycharm": {
     "name": "#%%\n"
    }
   }
  },
  {
   "cell_type": "code",
   "execution_count": 6,
   "outputs": [
    {
     "data": {
      "text/plain": "array([[9., 0., 0., ..., 0., 0., 0.],\n       [1., 0., 0., ..., 0., 0., 0.],\n       [0., 0., 0., ..., 0., 0., 0.],\n       ...,\n       [5., 0., 0., ..., 0., 0., 0.],\n       [1., 0., 0., ..., 0., 0., 0.],\n       [7., 0., 0., ..., 0., 0., 0.]])"
     },
     "execution_count": 6,
     "metadata": {},
     "output_type": "execute_result"
    }
   ],
   "source": [
    "data"
   ],
   "metadata": {
    "collapsed": false,
    "pycharm": {
     "name": "#%%\n"
    }
   }
  },
  {
   "cell_type": "code",
   "execution_count": 7,
   "outputs": [],
   "source": [
    "#train test split(ratio of: 0.9:0.1)\n",
    "test = data[0:4200]\n",
    "train = data[4200:rows]\n",
    "\n",
    "#X Y split\n",
    "x_train = train[:,1:]\n",
    "y_train = train[:,0]\n",
    "x_test = test[:,1:]\n",
    "y_test = test[:,0]\n",
    "'''\n",
    "We will transpose the matrix's of the x features for\n",
    "further computing purposes\n",
    "'''\n",
    "#x transpose\n",
    "x_train_T = x_train.T\n",
    "x_test_T = x_test.T"
   ],
   "metadata": {
    "collapsed": false,
    "pycharm": {
     "name": "#%%\n"
    }
   }
  },
  {
   "cell_type": "markdown",
   "source": [
    "<h2>The Neural Net</h2>\n",
    "<h3>Theory</h3>\n",
    "\n",
    "<h5>The Input layer</h5>\n",
    "<p>\n",
    "The input layer is consists of neurons as the number of X featurs.<br>\n",
    "In our case 784 neurons(28X28 pixels).<br>\n",
    "We can implement it as a matrix with $ \\large 784 $ rows and $ \\large M $ columuns, where $ \\large M $ is the number<br>\n",
    "of training samples and each element in the matrix(a neuron) hold a value which is<br>\n",
    "the value of this row's number feature of the sample which its number is the column number<br>\n",
    "in the matrix.<br>\n",
    "lets call this matrix $ \\large A_{784XM}$.<br>\n",
    "</p>\n",
    "<h5>Hidden Layer</h5>\n",
    "<p>\n",
    "This is where the magic happens, well if you call matrix multiplication, functions and derivatives<br>\n",
    "magic. The most of the computions accours in those layers we can create as many hidden layes as we want,<br> where each layer has different number of neuorns which we defined as a hyper parameter.<br>\n",
    "Each hidden layes consists of biases (numeric values) for each neuron and weights for each connection to neuron in the previous layer.<br>\n",
    "The value that each neuron holds is the sum of the values of the neurons in the previous layer<br>\n",
    "multiplyed by the weights i above then we add the bias to the result,<br>\n",
    "but this is not the finale value, then we insert the result to what we call an activetion function<br> which do an unlinear transformation to the result, and this output will be the input<br>of the next hidden layer/output layer.<br>\n",
    "the values of the biases and weights initilaizes rendomly, later on during the learning processe we will optimize those values with a process that called Gradient descent<br>, which I will explain later.<br>\n",
    "The hidden layer can be implementd as matrix that represents the neuorons of the layer:<br>\n",
    "Lets call it: $ \\large A'_{NXM}$. where N is the number of neurons in the currnet layer<br>\n",
    "and M is the number of samples.<br>\n",
    "We can represents the biases also as a matrix with one columns and N rows<br>\n",
    "lets call it: $ \\large B_{NXM}$.<br>\n",
    "We can represents the weights also as a matrix with $\\large N$ rows and $\\large N_{i-1} $\n",
    "colums where $\\large N_{i-1} $ is the number of neurons in the previous layer.<br>\n",
    "lets call it : $\\large W_{NXN_{i-1}} $\n",
    "Lets call the input matrix of this layer $ \\large A_{N_{i-1XM}} $ then <br>the overall compution\n",
    "of this layer can be represents in the next equation:<br><br>\n",
    "$\\large  A'_{NXM} = f (W_{NXN_{i-1}} * A_{N_{i-1XM}} + B_{NXM}) $<br><br>\n",
    "where $\\large f $ is the layer activation function. Some examples of activation functions are:<br>\n",
    "<h5>The Relu</h5><br><br>\n",
    "$ \\large\n",
    "RELU(Z) = max(0, Z) , \\dfrac{\\partial}{\\partial_Z} RELU(Z) = 1_{Z > 0} = 1, Z > 0 , 0, Z ≤ 0 $\n",
    "1, Z > 0<br><br>\n",
    "<h5>The tanH</h5><br><br>\n",
    "$ \\large\n",
    "tanH(Z) = \\dfrac{e^Z - e^{-Z}}{e^Z + e^{-Z}} , \\dfrac{\\partial}{\\partial_Z} tanH(Z) = 1 - (tanH(Z))^2 $<br><br>\n",
    "<h5>The sigmoid</h5><br><br>\n",
    "$ \\large\n",
    "Sigmoid(Z) = \\dfrac{1}{1 + e^{-Z}} , \\dfrac{\\partial}{\\partial_Z} Sigmoid(Z) = Sigmoid(1 - Sigmoid(Z)) $<br><br>\n",
    "</p>\n",
    "<h5>Output Layer</h5>\n",
    "<p>\n",
    "Similar to the previous hidden layers this layer also contains weights and biases and uses the<br>\n",
    "previous layer's output as input but our activation function is different.<br>\n",
    "Insetd of using one of the above examples we will use the SoftMax function.<br>\n",
    "the number of neurons in this layer is as the number of calssification classes, 10 in our case.<br>\n",
    "Where the value that each neuron holds represent the possibility of the current sample to  belongs<br> to the classification class that the neuron represents.<br>\n",
    "In order to shift the value of each neuron to range of 0-1 for the finale classification and<br>\n",
    "for the use of the cost function, we use the softmax function which is:<br><br>\n",
    "$ \\large Z_i = \\dfrac{e^{Z_i}}{\\sum_{j=1}^{10}e^{Z_j}} $<br><br>\n",
    "Where $ \\large Z_i $ is the value of each neuron.<br><br>\n",
    "</p>\n",
    "<p>\n",
    "We can visualize the network in the next image:<br>\n",
    "<img src=\"neuralNet.png\" alt=\"Neural Net\">\n",
    "</p>\n",
    "<h5>Gradient descent</h5>\n",
    "<p>\n",
    "<img src=\"gradient_descent.png\" alt=\"gradient descent\"><br><br>\n",
    "In this iterative process we will optimize the weights and biases of the network.<br>\n",
    "We can describe the cost of our network by the values of the weights and biases in a function.<br>\n",
    "By computing the derivatives of this function we can understand at which direction we need \"to go\"<br>\n",
    "in order to reach to some local minima that will minimize the cost of our network<br>.\n",
    "Lest represent it mathimitically:<br></p>\n",
    "<p>\n",
    "For the last layer:<br><br>\n",
    "<img src=\"backpropagetion1.png\"><br><br>\n",
    "Where $ \\large A^{|2|} $ is the output matrix of the last layer and y is the matrix that represents<br>\n",
    "the one hot encoded values of each sample.<br>\n",
    "$ \\large A^{|1|T} $ is the output matrix of the previous layer.<br>\n",
    "For hidden layer:<br>\n",
    "The differences are:<br><br>\n",
    "<img src=\"backpropagetion2.png\"><br><br>\n",
    "Where $ \\large g^{|1|'} $ is the derivative of the activation function and $ \\large Z^{|1|} $<br>\n",
    "is the neurons values matrix before applying the activation function.<br>\n",
    "The Weights and Biases updating:<br><br>\n",
    "<img src=\"update.png\"><br><br>\n",
    "Where $ \\large \\alpha $ is a hyperparameter which we call a learning rate, and its purpose,<br>\n",
    "is to prevent from us to take to big steps when \"moving to the minima\" and ccidentally miss it.<br>\n",
    "This process of updating the weights and biases(back propagation) is applying after each run of our whole traning data trough the network(forward propagation).<br>\n",
    "We repeate it hundreds and thousands times, during the training process.\n",
    "</p>"
   ],
   "metadata": {
    "collapsed": false
   }
  },
  {
   "cell_type": "markdown",
   "source": [
    "<h3>Input Layer</h3>"
   ],
   "metadata": {
    "collapsed": false
   }
  },
  {
   "cell_type": "code",
   "execution_count": 8,
   "outputs": [],
   "source": [
    "class InputLayer:\n",
    "\n",
    "    def __init__(self, x_mat):\n",
    "        self.features_num,_ = x_mat.shape\n",
    "        self.mat = x_mat\n"
   ],
   "metadata": {
    "collapsed": false,
    "pycharm": {
     "name": "#%%\n"
    }
   }
  },
  {
   "cell_type": "markdown",
   "source": [
    "<h3>Hidden Layer<h3>"
   ],
   "metadata": {
    "collapsed": false
   }
  },
  {
   "cell_type": "code",
   "execution_count": 9,
   "outputs": [],
   "source": [
    "class HiddenLayer:\n",
    "\n",
    "    def __init__(self, num_of_neurons, activation_func, previous_num_of_neurons, data_mat):\n",
    "        #activation function of the layer\n",
    "        self.activate_func = activation_func\n",
    "\n",
    "        #weights matrix of the layer\n",
    "        self.weights = np.random.rand(num_of_neurons, previous_num_of_neurons)* np.sqrt(1 / previous_num_of_neurons)\n",
    "\n",
    "        #biases column matrix of the layer\n",
    "        self.biases = np.zeros((num_of_neurons, 1))\n",
    "\n",
    "        #data mat of the previous layer\n",
    "        self.mat = data_mat\n",
    "\n",
    "        #data mat after the linear combination of the weights and biases\n",
    "        self.linear_comb_mat = None\n",
    "        #data mat after the activation function\n",
    "        self.after_mat = None\n",
    "\n",
    "    '''\n",
    "    takes the weights matrix and multiply it with the data output matrix\n",
    "    of the previous layer then add the biases column matrix\n",
    "    and applying the chosen activation function on the result matrix\n",
    "    the result is the data output matrix of the current layer\n",
    "    '''\n",
    "    def layer_output(self):\n",
    "        activate = np.vectorize(self.activate_func)\n",
    "        self.linear_comb_mat = self.weights.dot(self.mat) + self.biases\n",
    "        return  activate(self.linear_comb_mat)"
   ],
   "metadata": {
    "collapsed": false,
    "pycharm": {
     "name": "#%%\n"
    }
   }
  },
  {
   "cell_type": "markdown",
   "source": [
    "<h3>Output Layer</h3>"
   ],
   "metadata": {
    "collapsed": false
   }
  },
  {
   "cell_type": "code",
   "execution_count": 10,
   "outputs": [],
   "source": [
    "class OutputLayer:\n",
    "\n",
    "    def __init__(self, size, previous_num_of_neurons, data_mat):\n",
    "        #weights matrix of the layer\n",
    "        self.weights = np.random.rand(size, previous_num_of_neurons)* np.sqrt(1 / previous_num_of_neurons)\n",
    "\n",
    "        #biases column matrix of the layer\n",
    "        self.biases = np.zeros((size, 1))\n",
    "\n",
    "        #data mat of the previous layer\n",
    "        self.mat = data_mat\n",
    "\n",
    "        #data mat after the activation function\n",
    "        self.after_mat = None\n",
    "\n",
    "    '''\n",
    "    applying soft max function on each node in the output layer for a given sample\n",
    "    '''\n",
    "    def softMax(self, x):\n",
    "        return np.exp(x - np.max(x)) / np.sum(np.exp(x - np.max(x)), axis=0)\n",
    "\n",
    "    '''\n",
    "    compute the prediction matrix\n",
    "    '''\n",
    "    def predictions(self):\n",
    "        _,r = self.after_mat.shape\n",
    "        predictions = np.empty(shape=(r,1), dtype=np.int8)\n",
    "        for i in range(0,r):\n",
    "            max = self.after_mat[0,i]\n",
    "            index = 0\n",
    "            for j in range(1,10):\n",
    "                if self.after_mat[j,i] > max:\n",
    "                    max = self.after_mat[j,i]\n",
    "                    index = j\n",
    "            predictions[i,0] = index\n",
    "        return predictions\n",
    "\n",
    "    '''\n",
    "    takes the weights matrix and multiply it with the data output matrix\n",
    "    of the previous layer then add the biases column matrix\n",
    "    and applying the softMax activation function on the result matrix(A) for each sample(column)\n",
    "    the result is the data output matrix of the current layer that present\n",
    "    probability for each digit per sample\n",
    "    '''\n",
    "    def layer_output(self):\n",
    "        A = self.weights.dot(self.mat) + self.biases\n",
    "        return softmax(A,axis=0)"
   ],
   "metadata": {
    "collapsed": false,
    "pycharm": {
     "name": "#%%\n"
    }
   }
  },
  {
   "cell_type": "markdown",
   "source": [
    "<h3>Neural Net</h3>"
   ],
   "metadata": {
    "collapsed": false
   }
  },
  {
   "cell_type": "code",
   "execution_count": 11,
   "outputs": [],
   "source": [
    "class NeuralNet:\n",
    "\n",
    "    def __init__(self, x_mat, y_mat, activation_func, hidden_layers_size, learning_rate, num_of_epoch):\n",
    "        #x_mat of the training data\n",
    "        self.data = x_mat\n",
    "\n",
    "        #one hot encoded transposed matrix of the label matrix\n",
    "        self.labels = self.one_hot_labels(y_mat)\n",
    "\n",
    "        #the activation function of the neural net\n",
    "        self.func = self.activate(activation_func)\n",
    "\n",
    "        #the derivative function of the neural net's activation function\n",
    "        self.deriv_func = self.derivative(activation_func)\n",
    "\n",
    "        #number of epochs\n",
    "        self.epochs = num_of_epoch\n",
    "\n",
    "        #initial learning rate\n",
    "        self.l_rate = learning_rate\n",
    "\n",
    "        #input layer\n",
    "        self.input_layer = InputLayer(x_mat)\n",
    "\n",
    "        #hidden layers\n",
    "        self.hidden_layers = self.create_hidden_layers(hidden_layers_size)\n",
    "        rows_output,_ = self.labels.shape\n",
    "        rows_prev,_ = self.hidden_layers[len(self.hidden_layers) - 1].weights.shape\n",
    "        #output layer\n",
    "        self.output_layer = OutputLayer(rows_output, rows_prev, None)\n",
    "\n",
    "    '''\n",
    "    create the hidden layers of the network\n",
    "    '''\n",
    "    def create_hidden_layers(self, hidden_layers_size):\n",
    "        layers = []\n",
    "        previous = self.input_layer.features_num\n",
    "        for i in range (0, len(hidden_layers_size)):\n",
    "            layers.append(HiddenLayer(hidden_layers_size[i],self.func, previous, None))\n",
    "            previous = hidden_layers_size[i]\n",
    "        return layers\n",
    "\n",
    "    '''\n",
    "    forward propagation of one epoch\n",
    "    '''\n",
    "    def forward_propagation(self):\n",
    "        self.hidden_layers[0].mat = self.input_layer.mat\n",
    "        self.hidden_layers[0].after_mat = self.hidden_layers[0].layer_output()\n",
    "        for layer in range(1,len(self.hidden_layers)):\n",
    "            self.hidden_layers[layer].mat = self.hidden_layers[layer-1].after_mat\n",
    "            self.hidden_layers[layer].after_mat = self.hidden_layers[layer].layer_output()\n",
    "\n",
    "        self.output_layer.mat = self.hidden_layers[len(self.hidden_layers)-1].after_mat\n",
    "        self.output_layer.after_mat = self.output_layer.layer_output()\n",
    "\n",
    "    '''\n",
    "    back propagation of one epoch\n",
    "    '''\n",
    "    def back_propagation(self):\n",
    "        _,num_of_samples = self.data.shape\n",
    "        #cost compute\n",
    "        dz = 2*(self.output_layer.after_mat - self.labels)\n",
    "        #last hidden layer\n",
    "        dw = (1/num_of_samples)*dz.dot(self.output_layer.mat.T)\n",
    "        db = (1/num_of_samples)*np.sum(dz,1)\n",
    "        self.update_weights_biases(self.output_layer, dw, db)\n",
    "        #for the rest of the hidden layer\n",
    "        for i in range(len(self.hidden_layers)-1,-1,-1):\n",
    "            if i == len(self.hidden_layers)-1:\n",
    "                A = self.output_layer.weights.T\n",
    "            else:\n",
    "                A = self.hidden_layers[i+1].weights.T\n",
    "            activate = np.vectorize(self.deriv_func)\n",
    "            dz = A.dot(dz)*activate(self.hidden_layers[i].linear_comb_mat)\n",
    "            #last hidden layer\n",
    "            dw = (1/num_of_samples)*dz.dot(self.hidden_layers[i].mat.T)\n",
    "            db = (1/num_of_samples)*np.sum(dz,1)\n",
    "            self.update_weights_biases(self.hidden_layers[i], dw, db)\n",
    "\n",
    "    '''\n",
    "    optimizing the neural net by executing epochs of forward\n",
    "    and back propagation\n",
    "    '''\n",
    "    def optimize_net(self):\n",
    "        for e in range(0,self.epochs):\n",
    "            self.forward_propagation()\n",
    "            self.back_propagation()\n",
    "\n",
    "    '''\n",
    "    update the weights and biases matrices based on the derivatives\n",
    "    and the learning rate\n",
    "    '''\n",
    "    def update_weights_biases(self, layer, dw, db):\n",
    "        r,_ = layer.weights.shape\n",
    "        layer.weights = layer.weights-self.l_rate*dw\n",
    "        layer.biases = layer.biases-self.l_rate*np.reshape(db,(r,1))\n",
    "\n",
    "    '''\n",
    "    create the transposed one hot encoded matrix of the label matrix\n",
    "    for cost function computing\n",
    "    '''\n",
    "    def one_hot_labels(self, mat):\n",
    "        one_hot = np.zeros((mat.size, mat.max() + 1))\n",
    "        one_hot[np.arange(mat.size), mat] = 1\n",
    "        one_hot = one_hot.T\n",
    "        return one_hot\n",
    "\n",
    "    '''\n",
    "    return the chosen activation function\n",
    "    possible functions: sigmoid, tanH, Relu\n",
    "    '''\n",
    "    def activate(self, func_str):\n",
    "        #if sigmoid\n",
    "        if func_str == 'sigmoid':\n",
    "            def sigmoid(n):\n",
    "                return 1/(1+e**(-n))\n",
    "            return sigmoid\n",
    "        #if tanH\n",
    "        elif func_str == 'tanH':\n",
    "            def tanH(n):\n",
    "                return (e**n - e**(-n))/(e**n + e**(-n))\n",
    "            return tanH\n",
    "        #defualt as relu\n",
    "        else:\n",
    "            def relu(n):\n",
    "                return max(0.01*n,n)\n",
    "            return relu\n",
    "\n",
    "    '''\n",
    "    return the chosen activation function's derivative\n",
    "    '''\n",
    "    def derivative(self, func_str):\n",
    "        #if sigmoid\n",
    "        if func_str == 'sigmoid':\n",
    "            def der_sigmoid(n):\n",
    "                return (e**-n)/((1+e**-n)**2)\n",
    "            return der_sigmoid\n",
    "        #if tanH\n",
    "        elif func_str == 'tanH':\n",
    "            def der_tanH(n):\n",
    "                return 4/((e**n+e**(-n))**2)\n",
    "            return der_tanH\n",
    "        #defualt as relu\n",
    "        else:\n",
    "            def der_relu(n):\n",
    "                if n > 0:\n",
    "                    return 1\n",
    "                return 0\n",
    "            return der_relu\n",
    "\n",
    "    '''\n",
    "    predict the classes of a given input matrix\n",
    "    '''\n",
    "    def predict(self, x_test):\n",
    "        self.input_layer.mat = x_test\n",
    "        self.input_layer.features_num,_ = x_test.shape\n",
    "        self.forward_propagation()\n",
    "        return self.output_layer.predictions()"
   ],
   "metadata": {
    "collapsed": false,
    "pycharm": {
     "name": "#%%\n"
    }
   }
  },
  {
   "cell_type": "code",
   "execution_count": 12,
   "outputs": [],
   "source": [
    "y_train = y_train.astype(np.int64)"
   ],
   "metadata": {
    "collapsed": false,
    "pycharm": {
     "name": "#%%\n"
    }
   }
  },
  {
   "cell_type": "code",
   "execution_count": 13,
   "outputs": [],
   "source": [
    "nn = NeuralNet(x_train_T, y_train, \"relu\", [20], 0.1, 1000)"
   ],
   "metadata": {
    "collapsed": false,
    "pycharm": {
     "name": "#%%\n"
    }
   }
  },
  {
   "cell_type": "code",
   "execution_count": 14,
   "outputs": [
    {
     "name": "stdout",
     "output_type": "stream",
     "text": [
      "the learning time took \n",
      "489.92103481292725\n"
     ]
    }
   ],
   "source": [
    "start = time.time()\n",
    "nn.optimize_net()\n",
    "end = time.time()\n",
    "print(\"the learning time took \")\n",
    "print(end - start)"
   ],
   "metadata": {
    "collapsed": false,
    "pycharm": {
     "name": "#%%\n"
    }
   }
  },
  {
   "cell_type": "markdown",
   "source": [
    "<h3>train accuracy<h3>"
   ],
   "metadata": {
    "collapsed": false
   }
  },
  {
   "cell_type": "code",
   "execution_count": 15,
   "outputs": [],
   "source": [
    "acc = round(accuracy_score(y_train, nn.output_layer.predictions()), 3)"
   ],
   "metadata": {
    "collapsed": false,
    "pycharm": {
     "name": "#%%\n"
    }
   }
  },
  {
   "cell_type": "code",
   "execution_count": 16,
   "outputs": [
    {
     "data": {
      "text/plain": "0.969"
     },
     "execution_count": 16,
     "metadata": {},
     "output_type": "execute_result"
    }
   ],
   "source": [
    "acc"
   ],
   "metadata": {
    "collapsed": false,
    "pycharm": {
     "name": "#%%\n"
    }
   }
  },
  {
   "cell_type": "markdown",
   "source": [
    "<h3>test accuracy</h3>"
   ],
   "metadata": {
    "collapsed": false
   }
  },
  {
   "cell_type": "code",
   "execution_count": 17,
   "outputs": [],
   "source": [
    "y_test = y_test.astype(np.int64)"
   ],
   "metadata": {
    "collapsed": false,
    "pycharm": {
     "name": "#%%\n"
    }
   }
  },
  {
   "cell_type": "markdown",
   "source": [
    "<h3>Testing few samples</h3>"
   ],
   "metadata": {
    "collapsed": false
   }
  },
  {
   "cell_type": "code",
   "execution_count": 37,
   "outputs": [
    {
     "name": "stdout",
     "output_type": "stream",
     "text": [
      "Prediction:  9\n",
      "Label:  9\n"
     ]
    },
    {
     "data": {
      "text/plain": "<Figure size 640x480 with 1 Axes>",
      "image/png": "[encoded data removed]"
     },
     "metadata": {},
     "output_type": "display_data"
    }
   ],
   "source": [
    "current_image = x_test_T[:, 0, None]\n",
    "print(\"Prediction: \", nn.predict(current_image)[0,0])\n",
    "print(\"Label: \", y_test[0])\n",
    "current_image = current_image.reshape((28, 28)) * 255\n",
    "plt.gray()\n",
    "plt.imshow(current_image, interpolation='nearest')\n",
    "plt.show()"
   ],
   "metadata": {
    "collapsed": false,
    "pycharm": {
     "name": "#%%\n"
    }
   }
  },
  {
   "cell_type": "code",
   "execution_count": 38,
   "outputs": [
    {
     "name": "stdout",
     "output_type": "stream",
     "text": [
      "Prediction:  1\n",
      "Label:  1\n"
     ]
    },
    {
     "data": {
      "text/plain": "<Figure size 640x480 with 1 Axes>",
      "image/png": "[encoded data removed]"
     },
     "metadata": {},
     "output_type": "display_data"
    }
   ],
   "source": [
    "current_image = x_test_T[:, 1, None]\n",
    "print(\"Prediction: \", nn.predict(current_image)[0,0])\n",
    "print(\"Label: \", y_test[1])\n",
    "current_image = current_image.reshape((28, 28)) * 255\n",
    "plt.gray()\n",
    "plt.imshow(current_image, interpolation='nearest')\n",
    "plt.show()"
   ],
   "metadata": {
    "collapsed": false,
    "pycharm": {
     "name": "#%%\n"
    }
   }
  },
  {
   "cell_type": "code",
   "execution_count": 39,
   "outputs": [
    {
     "name": "stdout",
     "output_type": "stream",
     "text": [
      "Prediction:  0\n",
      "Label:  0\n"
     ]
    },
    {
     "data": {
      "text/plain": "<Figure size 640x480 with 1 Axes>",
      "image/png": "[encoded data removed]"
     },
     "metadata": {},
     "output_type": "display_data"
    }
   ],
   "source": [
    "current_image = x_test_T[:, 2, None]\n",
    "print(\"Prediction: \", nn.predict(current_image)[0,0])\n",
    "print(\"Label: \", y_test[2])\n",
    "current_image = current_image.reshape((28, 28)) * 255\n",
    "plt.gray()\n",
    "plt.imshow(current_image, interpolation='nearest')\n",
    "plt.show()"
   ],
   "metadata": {
    "collapsed": false,
    "pycharm": {
     "name": "#%%\n"
    }
   }
  },
  {
   "cell_type": "code",
   "execution_count": 40,
   "outputs": [
    {
     "name": "stdout",
     "output_type": "stream",
     "text": [
      "Prediction:  8\n",
      "Label:  8\n"
     ]
    },
    {
     "data": {
      "text/plain": "<Figure size 640x480 with 1 Axes>",
      "image/png": "[encoded data removed]"
     },
     "metadata": {},
     "output_type": "display_data"
    }
   ],
   "source": [
    "current_image = x_test_T[:, 3, None]\n",
    "print(\"Prediction: \", nn.predict(current_image)[0,0])\n",
    "print(\"Label: \", y_test[3])\n",
    "current_image = current_image.reshape((28, 28)) * 255\n",
    "plt.gray()\n",
    "plt.imshow(current_image, interpolation='nearest')\n",
    "plt.show()"
   ],
   "metadata": {
    "collapsed": false,
    "pycharm": {
     "name": "#%%\n"
    }
   }
  },
  {
   "cell_type": "code",
   "execution_count": 41,
   "outputs": [
    {
     "name": "stdout",
     "output_type": "stream",
     "text": [
      "Prediction:  6\n",
      "Label:  6\n"
     ]
    },
    {
     "data": {
      "text/plain": "<Figure size 640x480 with 1 Axes>",
      "image/png": "[encoded data removed]"
     },
     "metadata": {},
     "output_type": "display_data"
    }
   ],
   "source": [
    "current_image = x_test_T[:, 4, None]\n",
    "print(\"Prediction: \", nn.predict(current_image)[0,0])\n",
    "print(\"Label: \", y_test[4])\n",
    "current_image = current_image.reshape((28, 28)) * 255\n",
    "plt.gray()\n",
    "plt.imshow(current_image, interpolation='nearest')\n",
    "plt.show()"
   ],
   "metadata": {
    "collapsed": false,
    "pycharm": {
     "name": "#%%\n"
    }
   }
  },
  {
   "cell_type": "code",
   "execution_count": 42,
   "outputs": [
    {
     "name": "stdout",
     "output_type": "stream",
     "text": [
      "Prediction:  2\n",
      "Label:  2\n"
     ]
    },
    {
     "data": {
      "text/plain": "<Figure size 640x480 with 1 Axes>",
      "image/png": "[encoded data removed]"
     },
     "metadata": {},
     "output_type": "display_data"
    }
   ],
   "source": [
    "current_image = x_test_T[:, 5, None]\n",
    "print(\"Prediction: \", nn.predict(current_image)[0,0])\n",
    "print(\"Label: \", y_test[5])\n",
    "current_image = current_image.reshape((28, 28)) * 255\n",
    "plt.gray()\n",
    "plt.imshow(current_image, interpolation='nearest')\n",
    "plt.show()"
   ],
   "metadata": {
    "collapsed": false,
    "pycharm": {
     "name": "#%%\n"
    }
   }
  },
  {
   "cell_type": "code",
   "execution_count": 43,
   "outputs": [
    {
     "name": "stdout",
     "output_type": "stream",
     "text": [
      "Prediction:  8\n",
      "Label:  8\n"
     ]
    },
    {
     "data": {
      "text/plain": "<Figure size 640x480 with 1 Axes>",
      "image/png": "[encoded data removed]"
     },
     "metadata": {},
     "output_type": "display_data"
    }
   ],
   "source": [
    "current_image = x_test_T[:, 6, None]\n",
    "print(\"Prediction: \", nn.predict(current_image)[0,0])\n",
    "print(\"Label: \", y_test[6])\n",
    "current_image = current_image.reshape((28, 28)) * 255\n",
    "plt.gray()\n",
    "plt.imshow(current_image, interpolation='nearest')\n",
    "plt.show()"
   ],
   "metadata": {
    "collapsed": false,
    "pycharm": {
     "name": "#%%\n"
    }
   }
  },
  {
   "cell_type": "code",
   "execution_count": 44,
   "outputs": [
    {
     "name": "stdout",
     "output_type": "stream",
     "text": [
      "Prediction:  9\n",
      "Label:  9\n"
     ]
    },
    {
     "data": {
      "text/plain": "<Figure size 640x480 with 1 Axes>",
      "image/png": "[encoded data removed]"
     },
     "metadata": {},
     "output_type": "display_data"
    }
   ],
   "source": [
    "current_image = x_test_T[:, 7, None]\n",
    "print(\"Prediction: \", nn.predict(current_image)[0,0])\n",
    "print(\"Label: \", y_test[7])\n",
    "current_image = current_image.reshape((28, 28)) * 255\n",
    "plt.gray()\n",
    "plt.imshow(current_image, interpolation='nearest')\n",
    "plt.show()"
   ],
   "metadata": {
    "collapsed": false,
    "pycharm": {
     "name": "#%%\n"
    }
   }
  },
  {
   "cell_type": "code",
   "execution_count": 45,
   "outputs": [
    {
     "name": "stdout",
     "output_type": "stream",
     "text": [
      "Prediction:  1\n",
      "Label:  1\n"
     ]
    },
    {
     "data": {
      "text/plain": "<Figure size 640x480 with 1 Axes>",
      "image/png": "[encoded data removed]"
     },
     "metadata": {},
     "output_type": "display_data"
    }
   ],
   "source": [
    "current_image = x_test_T[:, 8, None]\n",
    "print(\"Prediction: \", nn.predict(current_image)[0,0])\n",
    "print(\"Label: \", y_test[8])\n",
    "current_image = current_image.reshape((28, 28)) * 255\n",
    "plt.gray()\n",
    "plt.imshow(current_image, interpolation='nearest')\n",
    "plt.show()"
   ],
   "metadata": {
    "collapsed": false,
    "pycharm": {
     "name": "#%%\n"
    }
   }
  },
  {
   "cell_type": "code",
   "execution_count": 46,
   "outputs": [
    {
     "name": "stdout",
     "output_type": "stream",
     "text": [
      "Prediction:  2\n",
      "Label:  2\n"
     ]
    },
    {
     "data": {
      "text/plain": "<Figure size 640x480 with 1 Axes>",
      "image/png": "[encoded data removed]"
     },
     "metadata": {},
     "output_type": "display_data"
    }
   ],
   "source": [
    "current_image = x_test_T[:, 9, None]\n",
    "print(\"Prediction: \", nn.predict(current_image)[0,0])\n",
    "print(\"Label: \", y_test[9])\n",
    "current_image = current_image.reshape((28, 28)) * 255\n",
    "plt.gray()\n",
    "plt.imshow(current_image, interpolation='nearest')\n",
    "plt.show()"
   ],
   "metadata": {
    "collapsed": false,
    "pycharm": {
     "name": "#%%\n"
    }
   }
  },
  {
   "cell_type": "code",
   "execution_count": 47,
   "outputs": [
    {
     "name": "stdout",
     "output_type": "stream",
     "text": [
      "Prediction:  7\n",
      "Label:  7\n"
     ]
    },
    {
     "data": {
      "text/plain": "<Figure size 640x480 with 1 Axes>",
      "image/png": "[encoded data removed]"
     },
     "metadata": {},
     "output_type": "display_data"
    }
   ],
   "source": [
    "current_image = x_test_T[:, 10, None]\n",
    "print(\"Prediction: \", nn.predict(current_image)[0,0])\n",
    "print(\"Label: \", y_test[10])\n",
    "current_image = current_image.reshape((28, 28)) * 255\n",
    "plt.gray()\n",
    "plt.imshow(current_image, interpolation='nearest')\n",
    "plt.show()"
   ],
   "metadata": {
    "collapsed": false,
    "pycharm": {
     "name": "#%%\n"
    }
   }
  },
  {
   "cell_type": "code",
   "execution_count": 48,
   "outputs": [
    {
     "name": "stdout",
     "output_type": "stream",
     "text": [
      "Prediction:  2\n",
      "Label:  2\n"
     ]
    },
    {
     "data": {
      "text/plain": "<Figure size 640x480 with 1 Axes>",
      "image/png": "[encoded data removed]"
     },
     "metadata": {},
     "output_type": "display_data"
    }
   ],
   "source": [
    "current_image = x_test_T[:, 11, None]\n",
    "print(\"Prediction: \", nn.predict(current_image)[0,0])\n",
    "print(\"Label: \", y_test[11])\n",
    "current_image = current_image.reshape((28, 28)) * 255\n",
    "plt.gray()\n",
    "plt.imshow(current_image, interpolation='nearest')\n",
    "plt.show()"
   ],
   "metadata": {
    "collapsed": false,
    "pycharm": {
     "name": "#%%\n"
    }
   }
  },
  {
   "cell_type": "markdown",
   "source": [
    "<h3>Full test data testing</h3>"
   ],
   "metadata": {
    "collapsed": false
   }
  },
  {
   "cell_type": "code",
   "execution_count": 49,
   "outputs": [
    {
     "data": {
      "text/plain": "0.949"
     },
     "execution_count": 49,
     "metadata": {},
     "output_type": "execute_result"
    }
   ],
   "source": [
    "acc = round(accuracy_score(y_test, nn.predict(x_test_T)), 3)\n",
    "acc"
   ],
   "metadata": {
    "collapsed": false,
    "pycharm": {
     "name": "#%%\n"
    }
   }
  },
  {
   "cell_type": "code",
   "execution_count": 31,
   "outputs": [
    {
     "data": {
      "text/plain": "array([9, 1, 0, ..., 8, 5, 9], dtype=int64)"
     },
     "execution_count": 31,
     "metadata": {},
     "output_type": "execute_result"
    }
   ],
   "source": [
    "#test real labels\n",
    "y_test"
   ],
   "metadata": {
    "collapsed": false,
    "pycharm": {
     "name": "#%%\n"
    }
   }
  },
  {
   "cell_type": "code",
   "execution_count": 32,
   "outputs": [
    {
     "data": {
      "text/plain": "array([[9],\n       [1],\n       [0],\n       ...,\n       [8],\n       [5],\n       [9]], dtype=int8)"
     },
     "execution_count": 32,
     "metadata": {},
     "output_type": "execute_result"
    }
   ],
   "source": [
    "#model predicted labels\n",
    "nn.predict(x_test_T)"
   ],
   "metadata": {
    "collapsed": false,
    "pycharm": {
     "name": "#%%\n"
    }
   }
  },
  {
   "cell_type": "markdown",
   "source": [
    "<h3>Comparing to sklearn model with same hyper parameters</h3>"
   ],
   "metadata": {
    "collapsed": false
   }
  },
  {
   "cell_type": "code",
   "execution_count": 33,
   "outputs": [
    {
     "data": {
      "text/plain": "MLPClassifier(alpha=0.8, hidden_layer_sizes=[15], learning_rate_init=0.1,\n              max_iter=1000, power_t=0.05)",
      "text/html": "<style>#sk-container-id-1 {color: black;background-color: white;}#sk-container-id-1 pre{padding: 0;}#sk-container-id-1 div.sk-toggleable {background-color: white;}#sk-container-id-1 label.sk-toggleable__label {cursor: pointer;display: block;width: 100%;margin-bottom: 0;padding: 0.3em;box-sizing: border-box;text-align: center;}#sk-container-id-1 label.sk-toggleable__label-arrow:before {content: \"▸\";float: left;margin-right: 0.25em;color: #696969;}#sk-container-id-1 label.sk-toggleable__label-arrow:hover:before {color: black;}#sk-container-id-1 div.sk-estimator:hover label.sk-toggleable__label-arrow:before {color: black;}#sk-container-id-1 div.sk-toggleable__content {max-height: 0;max-width: 0;overflow: hidden;text-align: left;background-color: #f0f8ff;}#sk-container-id-1 div.sk-toggleable__content pre {margin: 0.2em;color: black;border-radius: 0.25em;background-color: #f0f8ff;}#sk-container-id-1 input.sk-toggleable__control:checked~div.sk-toggleable__content {max-height: 200px;max-width: 100%;overflow: auto;}#sk-container-id-1 input.sk-toggleable__control:checked~label.sk-toggleable__label-arrow:before {content: \"▾\";}#sk-container-id-1 div.sk-estimator input.sk-toggleable__control:checked~label.sk-toggleable__label {background-color: #d4ebff;}#sk-container-id-1 div.sk-label input.sk-toggleable__control:checked~label.sk-toggleable__label {background-color: #d4ebff;}#sk-container-id-1 input.sk-hidden--visually {border: 0;clip: rect(1px 1px 1px 1px);clip: rect(1px, 1px, 1px, 1px);height: 1px;margin: -1px;overflow: hidden;padding: 0;position: absolute;width: 1px;}#sk-container-id-1 div.sk-estimator {font-family: monospace;background-color: #f0f8ff;border: 1px dotted black;border-radius: 0.25em;box-sizing: border-box;margin-bottom: 0.5em;}#sk-container-id-1 div.sk-estimator:hover {background-color: #d4ebff;}#sk-container-id-1 div.sk-parallel-item::after {content: \"\";width: 100%;border-bottom: 1px solid gray;flex-grow: 1;}#sk-container-id-1 div.sk-label:hover label.sk-toggleable__label {background-color: #d4ebff;}#sk-container-id-1 div.sk-serial::before {content: \"\";position: absolute;border-left: 1px solid gray;box-sizing: border-box;top: 0;bottom: 0;left: 50%;z-index: 0;}#sk-container-id-1 div.sk-serial {display: flex;flex-direction: column;align-items: center;background-color: white;padding-right: 0.2em;padding-left: 0.2em;position: relative;}#sk-container-id-1 div.sk-item {position: relative;z-index: 1;}#sk-container-id-1 div.sk-parallel {display: flex;align-items: stretch;justify-content: center;background-color: white;position: relative;}#sk-container-id-1 div.sk-item::before, #sk-container-id-1 div.sk-parallel-item::before {content: \"\";position: absolute;border-left: 1px solid gray;box-sizing: border-box;top: 0;bottom: 0;left: 50%;z-index: -1;}#sk-container-id-1 div.sk-parallel-item {display: flex;flex-direction: column;z-index: 1;position: relative;background-color: white;}#sk-container-id-1 div.sk-parallel-item:first-child::after {align-self: flex-end;width: 50%;}#sk-container-id-1 div.sk-parallel-item:last-child::after {align-self: flex-start;width: 50%;}#sk-container-id-1 div.sk-parallel-item:only-child::after {width: 0;}#sk-container-id-1 div.sk-dashed-wrapped {border: 1px dashed gray;margin: 0 0.4em 0.5em 0.4em;box-sizing: border-box;padding-bottom: 0.4em;background-color: white;}#sk-container-id-1 div.sk-label label {font-family: monospace;font-weight: bold;display: inline-block;line-height: 1.2em;}#sk-container-id-1 div.sk-label-container {text-align: center;}#sk-container-id-1 div.sk-container {/* jupyter's `normalize.less` sets `[hidden] { display: none; }` but bootstrap.min.css set `[hidden] { display: none !important; }` so we also need the `!important` here to be able to override the default hidden behavior on the sphinx rendered scikit-learn.org. See: https://github.com/scikit-learn/scikit-learn/issues/21755 */display: inline-block !important;position: relative;}#sk-container-id-1 div.sk-text-repr-fallback {display: none;}</style><div id=\"sk-container-id-1\" class=\"sk-top-container\"><div class=\"sk-text-repr-fallback\"><pre>MLPClassifier(alpha=0.8, hidden_layer_sizes=[15], learning_rate_init=0.1,\n              max_iter=1000, power_t=0.05)</pre><b>In a Jupyter environment, please rerun this cell to show the HTML representation or trust the notebook. <br />On GitHub, the HTML representation is unable to render, please try loading this page with nbviewer.org.</b></div><div class=\"sk-container\" hidden><div class=\"sk-item\"><div class=\"sk-estimator sk-toggleable\"><input class=\"sk-toggleable__control sk-hidden--visually\" id=\"sk-estimator-id-1\" type=\"checkbox\" checked><label for=\"sk-estimator-id-1\" class=\"sk-toggleable__label sk-toggleable__label-arrow\">MLPClassifier</label><div class=\"sk-toggleable__content\"><pre>MLPClassifier(alpha=0.8, hidden_layer_sizes=[15], learning_rate_init=0.1,\n              max_iter=1000, power_t=0.05)</pre></div></div></div></div></div>"
     },
     "execution_count": 33,
     "metadata": {},
     "output_type": "execute_result"
    }
   ],
   "source": [
    "mlp = MLPClassifier(hidden_layer_sizes=[15], activation='relu', solver='adam', alpha=0.8,\n",
    "                    learning_rate='constant', learning_rate_init=0.1, power_t=0.05, max_iter=1000)\n",
    "#fit the network\n",
    "mlp.fit(x_train, y_train)"
   ],
   "metadata": {
    "collapsed": false,
    "pycharm": {
     "name": "#%%\n"
    }
   }
  },
  {
   "cell_type": "code",
   "execution_count": 34,
   "outputs": [],
   "source": [
    "#test predict\n",
    "predict_test = mlp.predict(x_test)\n",
    "#calculating and printing test accuracy, Sensitivity and specificity\n",
    "test_acc = round(accuracy_score(y_test, predict_test), 3)"
   ],
   "metadata": {
    "collapsed": false,
    "pycharm": {
     "name": "#%%\n"
    }
   }
  },
  {
   "cell_type": "code",
   "execution_count": 35,
   "outputs": [
    {
     "data": {
      "text/plain": "0.823"
     },
     "execution_count": 35,
     "metadata": {},
     "output_type": "execute_result"
    }
   ],
   "source": [
    "test_acc"
   ],
   "metadata": {
    "collapsed": false,
    "pycharm": {
     "name": "#%%\n"
    }
   }
  },
  {
   "cell_type": "markdown",
   "source": [
    "<h2>Summery</h2>\n",
    "\n",
    "<p>\n",
    "Overral we can see that we managed to optimize the network pretty well and,<br>\n",
    "generalized from the training data.<br>\n",
    "We mannaged to achive respectable accuracy of 95% on our testing data and<br>\n",
    "even get better result then sklearn MLP model with the same hyper parameters.<br>\n",
    "One drawback of the implemented model is that its train time is relatively long (489 seconds).<br>\n",
    "We can optimize it by using different methods like: Mini Batch and Batch normalizition.\n",
    "</p>"
   ],
   "metadata": {
    "collapsed": false,
    "pycharm": {
     "name": "#%% md\n"
    }
   }
  }
 ],
 "metadata": {
  "kernelspec": {
   "display_name": "Python 3",
   "language": "python",
   "name": "python3"
  },
  "language_info": {
   "codemirror_mode": {
    "name": "ipython",
    "version": 2
   },
   "file_extension": ".py",
   "mimetype": "text/x-python",
   "name": "python",
   "nbconvert_exporter": "python",
   "pygments_lexer": "ipython2",
   "version": "2.7.6"
  }
 },
 "nbformat": 4,
 "nbformat_minor": 0
}